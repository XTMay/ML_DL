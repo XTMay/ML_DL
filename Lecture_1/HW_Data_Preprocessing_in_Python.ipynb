{
  "cells": [
    {
      "cell_type": "markdown",
      "metadata": {
        "id": "view-in-github",
        "colab_type": "text"
      },
      "source": [
        "<a href=\"https://colab.research.google.com/github/XTMay/ML_DL/blob/main/Lecture_1/HW_Data_Preprocessing_in_Python.ipynb\" target=\"_parent\"><img src=\"https://colab.research.google.com/assets/colab-badge.svg\" alt=\"Open In Colab\"/></a>"
      ]
    },
    {
      "cell_type": "markdown",
      "metadata": {
        "id": "ChkVpdbPzlSd"
      },
      "source": [
        "# Assignment 1: Data Preprocessing in Python"
      ]
    },
    {
      "cell_type": "markdown",
      "source": [
        "## In this assignment, there are two Sections you are going to finish.\n",
        "\n",
        "\n",
        "*   ### Section 1: Theory questions, each question is worth 5 points\n",
        "*   ### Section 2: Programming Questions 4 parts, 80 points in total, each part is worth 20 points\n",
        "\n",
        "\n"
      ],
      "metadata": {
        "id": "4jD87rCxLi3w"
      }
    },
    {
      "cell_type": "markdown",
      "metadata": {
        "id": "6Ae5cla9zlSe"
      },
      "source": [
        "## Theory Questions 20 points (each question is worth 5 points)"
      ]
    },
    {
      "cell_type": "markdown",
      "metadata": {
        "id": "4nvmHFiBzlSe"
      },
      "source": [
        "\n",
        "\n",
        "#### Question 1. Explain the importance of data preprocessing in machine learning."
      ]
    },
    {
      "cell_type": "markdown",
      "metadata": {
        "id": "sBfQP3g5zlSe"
      },
      "source": [
        "#### Answer:"
      ]
    },
    {
      "cell_type": "markdown",
      "source": [
        "Answers"
      ],
      "metadata": {
        "id": "l-fKS_S0MmX5"
      }
    },
    {
      "cell_type": "markdown",
      "metadata": {
        "id": "12Z_NclGzlSe"
      },
      "source": [
        "#### Question 2. What is the purpose of replacing missing values with standard values like “Not Available” or “NA”?"
      ]
    },
    {
      "cell_type": "markdown",
      "metadata": {
        "id": "ttMHtJ3IzlSe"
      },
      "source": [
        "#### Answer:"
      ]
    },
    {
      "cell_type": "markdown",
      "source": [
        "Answers"
      ],
      "metadata": {
        "id": "5_tVfJR-MqYF"
      }
    },
    {
      "cell_type": "markdown",
      "metadata": {
        "id": "YDFtowB7zlSe"
      },
      "source": [
        "\n",
        "#### Question 3. Discuss techniques for reducing the dimensionality of a dataset."
      ]
    },
    {
      "cell_type": "markdown",
      "source": [
        "Answers"
      ],
      "metadata": {
        "id": "hXb28dJhMsXZ"
      }
    },
    {
      "cell_type": "markdown",
      "metadata": {
        "id": "GHEj2gabzlSe"
      },
      "source": [
        "#### Answer:"
      ]
    },
    {
      "cell_type": "markdown",
      "source": [
        "Answers"
      ],
      "metadata": {
        "id": "rPfkUynUMtLv"
      }
    },
    {
      "cell_type": "markdown",
      "metadata": {
        "id": "SPkm8yNTzlSe"
      },
      "source": [
        "#### Question 4. What is feature engineering, and why is it essential?"
      ]
    },
    {
      "cell_type": "markdown",
      "metadata": {
        "id": "pwjne6oZzlSe"
      },
      "source": [
        "#### Answer:"
      ]
    },
    {
      "cell_type": "markdown",
      "source": [
        "Answers"
      ],
      "metadata": {
        "id": "lmBFkwIoMvDR"
      }
    },
    {
      "cell_type": "markdown",
      "metadata": {
        "id": "NkYwKtoyzlSf"
      },
      "source": [
        "## Programming Questions (80 points, each part is worth 20 points)"
      ]
    },
    {
      "cell_type": "markdown",
      "metadata": {
        "id": "DziZhQG_zlSf"
      },
      "source": [
        "#### <p>In this assignment, you are going to implement data processing.\n",
        "\n",
        "#### Finish the missing part in each section.\n",
        "\n",
        "#### About Dataset: The amounts of construction investment in Japan for 60 years from 1960.\n",
        "\n",
        "#### Dataset link: [https://www.kaggle.com/datasets/yutodennou/construction-investment-amount-in-japan]\n",
        "\n",
        "#### Check the link above to find more details.</p>"
      ]
    },
    {
      "cell_type": "markdown",
      "metadata": {
        "id": "8jTpHcCzzlSf"
      },
      "source": [
        "## Part 1: Fill in missing value & Data Encoding (20 points)"
      ]
    },
    {
      "cell_type": "code",
      "execution_count": null,
      "metadata": {
        "id": "mSVPEGRGzlSf"
      },
      "outputs": [],
      "source": [
        "# importing libraries\n",
        "import pandas as pd\n",
        "from pandas import read_csv\n",
        "import scipy\n",
        "import numpy as np\n",
        "from sklearn.preprocessing import MinMaxScaler\n",
        "import seaborn as sns\n",
        "import matplotlib.pyplot as plt"
      ]
    },
    {
      "cell_type": "code",
      "execution_count": null,
      "metadata": {
        "id": "mpzhNvuAzlSf",
        "outputId": "6837060c-8957-4c7b-aaf0-b96b3f0267d3"
      },
      "outputs": [
        {
          "data": {
            "text/html": [
              "<div>\n",
              "<style scoped>\n",
              "    .dataframe tbody tr th:only-of-type {\n",
              "        vertical-align: middle;\n",
              "    }\n",
              "\n",
              "    .dataframe tbody tr th {\n",
              "        vertical-align: top;\n",
              "    }\n",
              "\n",
              "    .dataframe thead th {\n",
              "        text-align: right;\n",
              "    }\n",
              "</style>\n",
              "<table border=\"1\" class=\"dataframe\">\n",
              "  <thead>\n",
              "    <tr style=\"text-align: right;\">\n",
              "      <th></th>\n",
              "      <th>Construction_Investment</th>\n",
              "      <th>Year</th>\n",
              "      <th>Value</th>\n",
              "      <th>Total</th>\n",
              "      <th>Architecture_Total</th>\n",
              "      <th>Architecture_Residential</th>\n",
              "      <th>Architecture_Residential_Government</th>\n",
              "      <th>Architecture_Residential_Private</th>\n",
              "      <th>Architecture_Non Residential</th>\n",
              "      <th>Architecture_Non Residential_Government</th>\n",
              "      <th>...</th>\n",
              "      <th>Civil Engineering_Government_Public Projects</th>\n",
              "      <th>Civil Engineering_Government_Other</th>\n",
              "      <th>Civil Engineering_Private</th>\n",
              "      <th>Repeated_Total_Government</th>\n",
              "      <th>Repeated_Total_Private</th>\n",
              "      <th>Repeated_Architecture_Government</th>\n",
              "      <th>Repeated_Architecture_Private</th>\n",
              "      <th>Repeated_Civil Engineering_Government</th>\n",
              "      <th>Repeated_Civil Engineering_Private</th>\n",
              "      <th>Repeated_Private_Non Residential Construction(Non Residential Architecture and Civil Engineering)</th>\n",
              "    </tr>\n",
              "  </thead>\n",
              "  <tbody>\n",
              "    <tr>\n",
              "      <th>0</th>\n",
              "      <td>amount</td>\n",
              "      <td>2022</td>\n",
              "      <td>real</td>\n",
              "      <td>669900.0</td>\n",
              "      <td>434000.0</td>\n",
              "      <td>163100.0</td>\n",
              "      <td>3400.0</td>\n",
              "      <td>159700.0</td>\n",
              "      <td>157600.0</td>\n",
              "      <td>38500.0</td>\n",
              "      <td>...</td>\n",
              "      <td>144500.0</td>\n",
              "      <td>20300.0</td>\n",
              "      <td>71100.0</td>\n",
              "      <td>225300.0</td>\n",
              "      <td>444600.0</td>\n",
              "      <td>60500.0</td>\n",
              "      <td>373500.0</td>\n",
              "      <td>164800.0</td>\n",
              "      <td>71100.0</td>\n",
              "      <td>190200.0</td>\n",
              "    </tr>\n",
              "    <tr>\n",
              "      <th>1</th>\n",
              "      <td>amount</td>\n",
              "      <td>2021</td>\n",
              "      <td>real</td>\n",
              "      <td>666000.0</td>\n",
              "      <td>425800.0</td>\n",
              "      <td>164700.0</td>\n",
              "      <td>3600.0</td>\n",
              "      <td>161100.0</td>\n",
              "      <td>148200.0</td>\n",
              "      <td>40000.0</td>\n",
              "      <td>...</td>\n",
              "      <td>150000.0</td>\n",
              "      <td>21000.0</td>\n",
              "      <td>69200.0</td>\n",
              "      <td>233900.0</td>\n",
              "      <td>432100.0</td>\n",
              "      <td>62900.0</td>\n",
              "      <td>362900.0</td>\n",
              "      <td>171000.0</td>\n",
              "      <td>69200.0</td>\n",
              "      <td>177400.0</td>\n",
              "    </tr>\n",
              "    <tr>\n",
              "      <th>2</th>\n",
              "      <td>amount</td>\n",
              "      <td>2020</td>\n",
              "      <td>real</td>\n",
              "      <td>653600.0</td>\n",
              "      <td>405300.0</td>\n",
              "      <td>156800.0</td>\n",
              "      <td>4200.0</td>\n",
              "      <td>152600.0</td>\n",
              "      <td>145300.0</td>\n",
              "      <td>40300.0</td>\n",
              "      <td>...</td>\n",
              "      <td>155400.0</td>\n",
              "      <td>25200.0</td>\n",
              "      <td>67700.0</td>\n",
              "      <td>244300.0</td>\n",
              "      <td>409300.0</td>\n",
              "      <td>63700.0</td>\n",
              "      <td>341600.0</td>\n",
              "      <td>180600.0</td>\n",
              "      <td>67700.0</td>\n",
              "      <td>172700.0</td>\n",
              "    </tr>\n",
              "    <tr>\n",
              "      <th>3</th>\n",
              "      <td>amount</td>\n",
              "      <td>2019</td>\n",
              "      <td>real</td>\n",
              "      <td>623280.0</td>\n",
              "      <td>401817.0</td>\n",
              "      <td>167478.0</td>\n",
              "      <td>4358.0</td>\n",
              "      <td>163120.0</td>\n",
              "      <td>155383.0</td>\n",
              "      <td>39078.0</td>\n",
              "      <td>...</td>\n",
              "      <td>141949.0</td>\n",
              "      <td>25354.0</td>\n",
              "      <td>54160.0</td>\n",
              "      <td>224802.0</td>\n",
              "      <td>398478.0</td>\n",
              "      <td>57499.0</td>\n",
              "      <td>344318.0</td>\n",
              "      <td>167303.0</td>\n",
              "      <td>54160.0</td>\n",
              "      <td>170465.0</td>\n",
              "    </tr>\n",
              "    <tr>\n",
              "      <th>4</th>\n",
              "      <td>amount</td>\n",
              "      <td>2018</td>\n",
              "      <td>real</td>\n",
              "      <td>618271.0</td>\n",
              "      <td>404856.0</td>\n",
              "      <td>172580.0</td>\n",
              "      <td>5214.0</td>\n",
              "      <td>167366.0</td>\n",
              "      <td>153994.0</td>\n",
              "      <td>38778.0</td>\n",
              "      <td>...</td>\n",
              "      <td>135472.0</td>\n",
              "      <td>23397.0</td>\n",
              "      <td>54546.0</td>\n",
              "      <td>215910.0</td>\n",
              "      <td>402361.0</td>\n",
              "      <td>57041.0</td>\n",
              "      <td>347815.0</td>\n",
              "      <td>158869.0</td>\n",
              "      <td>54546.0</td>\n",
              "      <td>169762.0</td>\n",
              "    </tr>\n",
              "  </tbody>\n",
              "</table>\n",
              "<p>5 rows × 28 columns</p>\n",
              "</div>"
            ],
            "text/plain": [
              "  Construction_Investment  Year Value     Total  Architecture_Total  \\\n",
              "0                  amount  2022  real  669900.0            434000.0   \n",
              "1                  amount  2021  real  666000.0            425800.0   \n",
              "2                  amount  2020  real  653600.0            405300.0   \n",
              "3                  amount  2019  real  623280.0            401817.0   \n",
              "4                  amount  2018  real  618271.0            404856.0   \n",
              "\n",
              "   Architecture_Residential  Architecture_Residential_Government  \\\n",
              "0                  163100.0                               3400.0   \n",
              "1                  164700.0                               3600.0   \n",
              "2                  156800.0                               4200.0   \n",
              "3                  167478.0                               4358.0   \n",
              "4                  172580.0                               5214.0   \n",
              "\n",
              "   Architecture_Residential_Private  Architecture_Non Residential  \\\n",
              "0                          159700.0                      157600.0   \n",
              "1                          161100.0                      148200.0   \n",
              "2                          152600.0                      145300.0   \n",
              "3                          163120.0                      155383.0   \n",
              "4                          167366.0                      153994.0   \n",
              "\n",
              "   Architecture_Non Residential_Government  ...  \\\n",
              "0                                  38500.0  ...   \n",
              "1                                  40000.0  ...   \n",
              "2                                  40300.0  ...   \n",
              "3                                  39078.0  ...   \n",
              "4                                  38778.0  ...   \n",
              "\n",
              "   Civil Engineering_Government_Public Projects  \\\n",
              "0                                      144500.0   \n",
              "1                                      150000.0   \n",
              "2                                      155400.0   \n",
              "3                                      141949.0   \n",
              "4                                      135472.0   \n",
              "\n",
              "   Civil Engineering_Government_Other  Civil Engineering_Private  \\\n",
              "0                             20300.0                    71100.0   \n",
              "1                             21000.0                    69200.0   \n",
              "2                             25200.0                    67700.0   \n",
              "3                             25354.0                    54160.0   \n",
              "4                             23397.0                    54546.0   \n",
              "\n",
              "   Repeated_Total_Government  Repeated_Total_Private  \\\n",
              "0                   225300.0                444600.0   \n",
              "1                   233900.0                432100.0   \n",
              "2                   244300.0                409300.0   \n",
              "3                   224802.0                398478.0   \n",
              "4                   215910.0                402361.0   \n",
              "\n",
              "   Repeated_Architecture_Government  Repeated_Architecture_Private  \\\n",
              "0                           60500.0                       373500.0   \n",
              "1                           62900.0                       362900.0   \n",
              "2                           63700.0                       341600.0   \n",
              "3                           57499.0                       344318.0   \n",
              "4                           57041.0                       347815.0   \n",
              "\n",
              "   Repeated_Civil Engineering_Government  Repeated_Civil Engineering_Private  \\\n",
              "0                               164800.0                             71100.0   \n",
              "1                               171000.0                             69200.0   \n",
              "2                               180600.0                             67700.0   \n",
              "3                               167303.0                             54160.0   \n",
              "4                               158869.0                             54546.0   \n",
              "\n",
              "   Repeated_Private_Non Residential Construction(Non Residential Architecture and Civil Engineering)  \n",
              "0                                           190200.0                                                  \n",
              "1                                           177400.0                                                  \n",
              "2                                           172700.0                                                  \n",
              "3                                           170465.0                                                  \n",
              "4                                           169762.0                                                  \n",
              "\n",
              "[5 rows x 28 columns]"
            ]
          },
          "execution_count": 23,
          "metadata": {},
          "output_type": "execute_result"
        }
      ],
      "source": [
        "# Load the dataset\n",
        "df = read_csv('xxxxx/xxxx/Construction_investment_amount_in_japan.csv')\n",
        "df.head()"
      ]
    },
    {
      "cell_type": "code",
      "execution_count": null,
      "metadata": {
        "id": "JceZkLNTzlSf"
      },
      "outputs": [],
      "source": [
        "df.info()"
      ]
    },
    {
      "cell_type": "code",
      "execution_count": null,
      "metadata": {
        "id": "RIpG7lwtzlSf"
      },
      "outputs": [],
      "source": [
        "# Find out null value\n",
        "df.isnull().sum()"
      ]
    },
    {
      "cell_type": "code",
      "execution_count": null,
      "metadata": {
        "id": "JBuAEoyfzlSf"
      },
      "outputs": [],
      "source": [
        "# Fill in null value\n",
        "new_df = df.ffill()\n",
        "\n",
        "# Show new dataframe after filling in null value\n",
        "new_df.isnull().sum()\n"
      ]
    },
    {
      "cell_type": "code",
      "execution_count": null,
      "metadata": {
        "id": "QU69EtIhzlSf"
      },
      "outputs": [],
      "source": [
        "new_df.tail()"
      ]
    },
    {
      "cell_type": "code",
      "execution_count": null,
      "metadata": {
        "id": "043oyv7jzlSf"
      },
      "outputs": [],
      "source": [
        "df = new_df"
      ]
    },
    {
      "cell_type": "code",
      "execution_count": null,
      "metadata": {
        "id": "86yZCzhazlSf"
      },
      "outputs": [],
      "source": [
        "# Statistical Analysis\n",
        "df.describe()"
      ]
    },
    {
      "cell_type": "code",
      "execution_count": null,
      "metadata": {
        "id": "pVaLF75szlSf"
      },
      "outputs": [],
      "source": [
        "# Print mean value, standard deviation, max and min value of each column"
      ]
    },
    {
      "cell_type": "code",
      "execution_count": null,
      "metadata": {
        "id": "EerOG58fzlSf"
      },
      "outputs": [],
      "source": [
        "# convert categorical variables to numerical variables"
      ]
    },
    {
      "cell_type": "code",
      "execution_count": null,
      "metadata": {
        "id": "PjSwnlwEzlSg"
      },
      "outputs": [],
      "source": [
        "df.tail()"
      ]
    },
    {
      "cell_type": "code",
      "execution_count": null,
      "metadata": {
        "id": "wIF6-NT3zlSg"
      },
      "outputs": [],
      "source": [
        "from sklearn.preprocessing import LabelEncoder\n",
        "\n",
        "# Initialize the encoder\n",
        "label_encoder = LabelEncoder()\n",
        "\n",
        "# Fit and transform the data\n",
        "df['Construction_Investment'] = label_encoder.fit_transform(df['Construction_Investment'])\n",
        "\n",
        "df.tail()"
      ]
    },
    {
      "cell_type": "code",
      "execution_count": null,
      "metadata": {
        "id": "Q_J-D2QTzlSg"
      },
      "outputs": [],
      "source": [
        "from sklearn.preprocessing import LabelEncoder\n",
        "\n",
        "# Initialize the encoder\n",
        "label_encoder = LabelEncoder()\n",
        "\n",
        "# Fit and transform the data\n",
        "df['Value'] = label_encoder.fit_transform(df['Value'])\n",
        "\n",
        "df.tail()"
      ]
    },
    {
      "cell_type": "markdown",
      "metadata": {
        "id": "uT524k08zlSg"
      },
      "source": [
        "## Part 2: Check the outliers (20 points)"
      ]
    },
    {
      "cell_type": "code",
      "execution_count": null,
      "metadata": {
        "id": "_uDtrbzEzlSg"
      },
      "outputs": [],
      "source": [
        "# use box plot for each columns\n",
        "fig, axs = plt.subplots(100, 1, dpi=95, figsize=(7,17))\n",
        "i = 0\n",
        "for col in df.columns:\n",
        "\taxs[i].boxplot(df[col], vert=False)\n",
        "\taxs[i].set_ylabel(col)\n",
        "\ti+=1\n",
        "plt.show()\n"
      ]
    },
    {
      "cell_type": "code",
      "execution_count": null,
      "metadata": {
        "id": "nr6u866DzlSg"
      },
      "outputs": [],
      "source": [
        "# Remove ourliers\n"
      ]
    },
    {
      "cell_type": "markdown",
      "metadata": {
        "id": "Mb8ZUk_hzlSg"
      },
      "source": [
        "## Part 3: Normalization or Standardization (20 points)\n",
        "\n",
        "### In this part, you will extract at most 8 features to predict Total Amount."
      ]
    },
    {
      "cell_type": "markdown",
      "metadata": {
        "id": "-gh0GjXKzlSg"
      },
      "source": [
        "## Part 4: Feature Extraction (20 points)\n",
        "\n",
        "### In this part, you will extract at most 8 features to predict Total Amount."
      ]
    },
    {
      "cell_type": "code",
      "execution_count": null,
      "metadata": {
        "id": "06TQ1i6ozlSg"
      },
      "outputs": [],
      "source": [
        "#correlation\n",
        "corr = df.corr()\n",
        "\n",
        "plt.figure(dpi=130)\n",
        "sns.heatmap(df.corr(), annot=True, fmt= '.2f')\n",
        "plt.show()\n"
      ]
    },
    {
      "cell_type": "code",
      "execution_count": null,
      "metadata": {
        "id": "_oSKMzy2zlSg"
      },
      "outputs": [],
      "source": [
        "# initialising the MinMaxScaler\n",
        "scaler = MinMaxScaler(feature_range=(0, 1))\n",
        "\n",
        "# learning the statistical parameters for each of the data and transforming\n",
        "rescaledX = scaler.fit_transform(X)\n",
        "rescaledX[:5]\n"
      ]
    },
    {
      "cell_type": "code",
      "execution_count": null,
      "metadata": {
        "id": "TVhSMV9gzlSg"
      },
      "outputs": [],
      "source": [
        "from sklearn.preprocessing import StandardScaler\n",
        "\n",
        "scaler = StandardScaler().fit(X)\n",
        "rescaledX = scaler.transform(X)\n",
        "rescaledX[:5]\n"
      ]
    }
  ],
  "metadata": {
    "kernelspec": {
      "display_name": "base",
      "language": "python",
      "name": "python3"
    },
    "language_info": {
      "codemirror_mode": {
        "name": "ipython",
        "version": 3
      },
      "file_extension": ".py",
      "mimetype": "text/x-python",
      "name": "python",
      "nbconvert_exporter": "python",
      "pygments_lexer": "ipython3",
      "version": "3.12.2"
    },
    "colab": {
      "provenance": [],
      "collapsed_sections": [
        "uT524k08zlSg"
      ],
      "include_colab_link": true
    }
  },
  "nbformat": 4,
  "nbformat_minor": 0
}