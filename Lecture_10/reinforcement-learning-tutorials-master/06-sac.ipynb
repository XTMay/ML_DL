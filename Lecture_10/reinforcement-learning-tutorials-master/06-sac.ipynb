{
 "cells": [
  {
   "cell_type": "markdown",
   "id": "recent-bunch",
   "metadata": {},
   "source": [
    "# SAC (Soft Actor-Critic)\n",
    "\n",
    "SAC (Soft Actor-Critic) is one of today's popular algorithm, which is based on **off-policy** DDPG discussed in [here](./05-ddpg.ipynb).<br>\n",
    "However, unlike DDPG, SAC applies entropy regularization and trains a stochastic policy, not a deterministic policy.\n",
    "\n",
    "Entropy is defined as $ H(P) = -\\int P(x) \\log P(x) = E_x[-\\log P(x)] $ and it means how $ P(\\cdot) $ is distributed intuitively.<br>\n",
    "For instance, if it has 8 possible states, each of which is equally likely in discrete distribution, it will have $ H(P) = -\\sum P(x) \\log P(x) = -8 \\times \\frac{1}{8} \\log_2 \\frac{1}{8} = 3 $. (This implies that it needs 3 bits evenly.) If the distribution is $ (\\frac{1}{2}, \\frac{1}{4}, \\frac{1}{8}, \\frac{1}{16}, \\frac{1}{64}, \\frac{1}{64}, \\frac{1}{64}, \\frac{1}{64}) $, it will have $ H(P) = -\\frac{1}{2} \\log_2 \\frac{1}{2} - \\frac{1}{4} \\log_2 \\frac{1}{4} - \\frac{1}{8} \\log_2 \\frac{1}{8} - \\frac{1}{16} \\log_2 \\frac{1}{16} - 4 \\times \\frac{1}{64} \\log_2 \\frac{1}{64} = 2 $.<br>\n",
    "(Note that, for simplicity, I have replaced the base e of logarithm with 2.)<br>\n",
    "\n",
    "As you can see above, entropy will be larger, when the distribution has much randomness.\n",
    "\n",
    "> Note : In continuous distribution, it's known that the distribution that maximizes the entropy is Gaussian distribution. Here I don't go into details, but KL-divergence (the penalty for large updates) discussed in [PPO](./04-ppo.ipynb) is closely related with this entropy term.\n",
    "\n",
    "In SAC, instead of using a reward expectation $ r_t + \\gamma (d_t - 1) Q_{{\\phi}^{\\prime}} $ used in DDPG, it applies $ r_t + \\gamma (d_t - 1) (Q_{{\\phi}^{\\prime}} + \\alpha H(P)) $ (where $\\alpha$ is a coefficient parameter for entropy weight, called entropy temperature) in order to balance between exploitation and exploration.<br>\n",
    "Even if the estimated Q-value increases, it might be rejected when the entropy is largely reduced.\n",
    "\n",
    "*(back to [index](https://github.com/tsmatz/reinforcement-learning-tutorials/))*"
   ]
  },
  {
   "cell_type": "code",
   "execution_count": 1,
   "id": "49fc83ba",
   "metadata": {},
   "outputs": [
    {
     "name": "stdout",
     "output_type": "stream",
     "text": [
      "Requirement already satisfied: torch in /Users/xiaotingzhou/miniconda3/lib/python3.11/site-packages (2.7.1)\n",
      "Requirement already satisfied: numpy in /Users/xiaotingzhou/miniconda3/lib/python3.11/site-packages (2.2.6)\n",
      "Requirement already satisfied: gymnasium in /Users/xiaotingzhou/miniconda3/lib/python3.11/site-packages (1.2.0)\n",
      "Requirement already satisfied: matplotlib in /Users/xiaotingzhou/miniconda3/lib/python3.11/site-packages (3.10.3)\n",
      "Requirement already satisfied: filelock in /Users/xiaotingzhou/miniconda3/lib/python3.11/site-packages (from torch) (3.18.0)\n",
      "Requirement already satisfied: typing-extensions>=4.10.0 in /Users/xiaotingzhou/miniconda3/lib/python3.11/site-packages (from torch) (4.14.1)\n",
      "Requirement already satisfied: sympy>=1.13.3 in /Users/xiaotingzhou/miniconda3/lib/python3.11/site-packages (from torch) (1.14.0)\n",
      "Requirement already satisfied: networkx in /Users/xiaotingzhou/miniconda3/lib/python3.11/site-packages (from torch) (3.5)\n",
      "Requirement already satisfied: jinja2 in /Users/xiaotingzhou/miniconda3/lib/python3.11/site-packages (from torch) (3.1.6)\n",
      "Requirement already satisfied: fsspec in /Users/xiaotingzhou/miniconda3/lib/python3.11/site-packages (from torch) (2025.3.0)\n",
      "Requirement already satisfied: cloudpickle>=1.2.0 in /Users/xiaotingzhou/miniconda3/lib/python3.11/site-packages (from gymnasium) (3.1.1)\n",
      "Requirement already satisfied: farama-notifications>=0.0.1 in /Users/xiaotingzhou/miniconda3/lib/python3.11/site-packages (from gymnasium) (0.0.4)\n",
      "Requirement already satisfied: contourpy>=1.0.1 in /Users/xiaotingzhou/miniconda3/lib/python3.11/site-packages (from matplotlib) (1.3.2)\n",
      "Requirement already satisfied: cycler>=0.10 in /Users/xiaotingzhou/miniconda3/lib/python3.11/site-packages (from matplotlib) (0.12.1)\n",
      "Requirement already satisfied: fonttools>=4.22.0 in /Users/xiaotingzhou/miniconda3/lib/python3.11/site-packages (from matplotlib) (4.58.5)\n",
      "Requirement already satisfied: kiwisolver>=1.3.1 in /Users/xiaotingzhou/miniconda3/lib/python3.11/site-packages (from matplotlib) (1.4.8)\n",
      "Requirement already satisfied: packaging>=20.0 in /Users/xiaotingzhou/miniconda3/lib/python3.11/site-packages (from matplotlib) (24.2)\n",
      "Requirement already satisfied: pillow>=8 in /Users/xiaotingzhou/miniconda3/lib/python3.11/site-packages (from matplotlib) (11.3.0)\n",
      "Requirement already satisfied: pyparsing>=2.3.1 in /Users/xiaotingzhou/miniconda3/lib/python3.11/site-packages (from matplotlib) (3.2.3)\n",
      "Requirement already satisfied: python-dateutil>=2.7 in /Users/xiaotingzhou/miniconda3/lib/python3.11/site-packages (from matplotlib) (2.9.0)\n",
      "Requirement already satisfied: six>=1.5 in /Users/xiaotingzhou/miniconda3/lib/python3.11/site-packages (from python-dateutil>=2.7->matplotlib) (1.16.0)\n",
      "Requirement already satisfied: mpmath<1.4,>=1.1.0 in /Users/xiaotingzhou/miniconda3/lib/python3.11/site-packages (from sympy>=1.13.3->torch) (1.3.0)\n",
      "Requirement already satisfied: MarkupSafe>=2.0 in /Users/xiaotingzhou/miniconda3/lib/python3.11/site-packages (from jinja2->torch) (3.0.2)\n"
     ]
    }
   ],
   "source": [
    "!pip install torch numpy gymnasium matplotlib"
   ]
  },
  {
   "cell_type": "code",
   "execution_count": 2,
   "id": "aa81765d",
   "metadata": {},
   "outputs": [],
   "source": [
    "import random\n",
    "import gymnasium as gym\n",
    "import numpy as np\n",
    "import torch\n",
    "import torch.nn as nn\n",
    "from torch.nn import functional as F"
   ]
  },
  {
   "cell_type": "markdown",
   "id": "b3e6a348-3e37-40bc-ae5c-dd7d53354331",
   "metadata": {},
   "source": [
    "In order to prevent from overflows, I apply double precision for float operations."
   ]
  },
  {
   "cell_type": "code",
   "execution_count": 3,
   "id": "84f04e47-08b2-40be-ac00-773ddcedfe41",
   "metadata": {},
   "outputs": [],
   "source": [
    "torch.set_default_dtype(torch.float64)"
   ]
  },
  {
   "cell_type": "markdown",
   "id": "126dd724",
   "metadata": {},
   "source": [
    "Unlike [DDPG](./05-ddpg.ipynb), we can use discrete action space in SAC. (See below for this reason.)<br>\n",
    "We then now use standard CartPole agent in Gymnasium."
   ]
  },
  {
   "cell_type": "code",
   "execution_count": 4,
   "id": "2c8bc368",
   "metadata": {},
   "outputs": [],
   "source": [
    "env = gym.make(\"CartPole-v1\")"
   ]
  },
  {
   "cell_type": "markdown",
   "id": "7385715b",
   "metadata": {},
   "source": [
    "Unlike DDPG, SAC trains a stochastic policy $ \\pi_{\\theta}(\\cdot) $ (where $ \\theta $ is parameters) instead of a deterministic policy $ \\mu_{\\theta}(\\cdot) $. (And we don't use target policy network $ \\pi_{\\theta^{\\prime}} $.)<br>\n",
    "In this example, I use categorical distribution (same as, used in [policy gradient](./02-policy-gradient.ipynb) and [PPO](./04-ppo.ipynb) example) for a policy $ P(\\cdot | \\pi_\\theta(s)) $, because it's discrete action space:\n",
    "\n",
    "> Note : For the bounded continuous action space between $ l $ and $ h $, use Gaussian distribution as follows.<br>\n",
    "> $ P(\\cdot | \\pi_\\theta(s)) = ((tanh(\\mathcal{N}(\\mu_{\\theta}(s), \\sigma_{\\theta}(s))) + 1.0) / 2.0) \\times (h - l) + l  $\n",
    "\n",
    "Because we use a stochastic policy, we don't then need Ornstein-Uhlenbeck noise used in [DDPG](./05-ddpg.ipynb) any more."
   ]
  },
  {
   "cell_type": "code",
   "execution_count": 5,
   "id": "4c8dbe81",
   "metadata": {},
   "outputs": [],
   "source": [
    "device = torch.device(\"cuda\" if torch.cuda.is_available() else \"cpu\")\n",
    "\n",
    "# Policy net (pi_theta)\n",
    "class PolicyNet(nn.Module):\n",
    "    def __init__(self, hidden_dim=64):\n",
    "        super().__init__()\n",
    "\n",
    "        self.hidden = nn.Linear(4, hidden_dim)\n",
    "        self.output = nn.Linear(hidden_dim, 2)\n",
    "\n",
    "    def forward(self, s):\n",
    "        outs = self.hidden(s)\n",
    "        outs = F.relu(outs)\n",
    "        outs = self.output(outs)\n",
    "        return outs\n",
    "\n",
    "pi_model = PolicyNet().to(device)\n",
    "\n",
    "# Pick up action (for each step in episode)\n",
    "def pick_sample(s):\n",
    "    with torch.no_grad():\n",
    "        #   --> size : (1, 4)\n",
    "        s_batch = np.expand_dims(s, axis=0)\n",
    "        s_batch = torch.tensor(s_batch, dtype=torch.float64).to(device)\n",
    "        # Get logits from state\n",
    "        #   --> size : (1, 2)\n",
    "        logits = pi_model(s_batch)\n",
    "        #   --> size : (2)\n",
    "        logits = logits.squeeze(dim=0)\n",
    "        # From logits to probabilities\n",
    "        probs = F.softmax(logits, dim=-1)\n",
    "        # Pick up action's sample\n",
    "        #   --> size : (1)\n",
    "        a = torch.multinomial(probs, num_samples=1)\n",
    "        #   --> size : ()\n",
    "        a = a.squeeze(dim=0)\n",
    "        # Return\n",
    "        return a.tolist()"
   ]
  },
  {
   "cell_type": "markdown",
   "id": "6845f8cf",
   "metadata": {},
   "source": [
    "Same as clipped double-Q (twin-Q) DDPG method (see the latter part in [here](./05-ddpg.ipynb)), we use 2 Q-networks - $ Q_{\\phi_1}(s), Q_{\\phi_2}(s) $ - and corresponding 2 target networks - $ Q_{\\phi_1^{\\prime}}(s), Q_{\\phi_2^{\\prime}}(s) $.\n",
    "\n",
    "You will find that this is different from the one used in [DDPG](./05-ddpg.ipynb). (In DDPG, we have used $Q(s, a)$.)<br>\n",
    "For categorical distribution with the depth n (in this example, n=2), the output of $ Q(\\cdot) $ is n-dimensional tensor, in which each element represents the expectation of Q-value for the corresponding action. And we then use $ Q(s) \\cdot \\tilde{a} $ (i.e, dot product operation) instead of $ Q(s, a) $, where $ \\tilde{a} $ is one hot tensor for action $ a $.<br>\n",
    "Because of this reason, we use $Q(s)$ instead of $Q(s, a)$."
   ]
  },
  {
   "cell_type": "code",
   "execution_count": 6,
   "id": "2b916fd2",
   "metadata": {},
   "outputs": [],
   "source": [
    "class QNet(nn.Module):\n",
    "    def __init__(self, hidden_dim=64):\n",
    "        super().__init__()\n",
    "\n",
    "        self.hidden = nn.Linear(4, hidden_dim)\n",
    "        self.output = nn.Linear(hidden_dim, 2)\n",
    "\n",
    "    def forward(self, s):\n",
    "        outs = self.hidden(s)\n",
    "        outs = F.relu(outs)\n",
    "        outs = self.output(outs)\n",
    "        return outs\n",
    "\n",
    "q_origin_model1 = QNet().to(device)  # Q_phi1\n",
    "q_origin_model2 = QNet().to(device)  # Q_phi2\n",
    "q_target_model1 = QNet().to(device)  # Q_phi1'\n",
    "q_target_model2 = QNet().to(device)  # Q_phi2'\n",
    "_ = q_target_model1.requires_grad_(False)  # target model doen't need grad\n",
    "_ = q_target_model2.requires_grad_(False)  # target model doen't need grad"
   ]
  },
  {
   "cell_type": "markdown",
   "id": "61b9c1b5",
   "metadata": {},
   "source": [
    "As we saw in [clipped double-Q DDPG](./05-ddpg.ipynb), we optimize policy parameter $ \\theta $ to maximize $ Q_{\\phi_1}(s, a^*) + \\alpha H(P(\\cdot | \\pi_\\theta(s))) $ where $ a^* $ is an optimal action.\n",
    "\n",
    "As I have mentioned above, $ H(P) = E_x[-\\log P(x)] $.<br>\n",
    "In this categorical distribution (in discrete action space), $ H $ will then be the following dot product :\n",
    "\n",
    "$ H(P) = H(P(\\cdot | \\pi_\\theta(s))) = -\\pi_\\theta(s) \\cdot \\log \\pi_\\theta(s) $\n",
    "\n",
    "where $ \\pi_\\theta(s) $ is one hot probability.\n",
    "\n",
    "For $ Q(s, a^*) $ term, it will become the following dot product. (See above for this reason.) :\n",
    "\n",
    "$ Q_{\\phi_1}(s, a^*) = Q_{\\phi_1}(s) \\cdot \\pi_\\theta(s) $\n",
    "\n",
    "To summarize, we should optimize $ \\theta $ to maximize :\n",
    "\n",
    "$ E\\left[ \\pi_\\theta(s) \\cdot Q_{\\phi_1}(s) - \\alpha \\pi_\\theta(s) \\cdot \\log \\pi_\\theta(s) \\right] = E\\left[ \\pi_\\theta(s) \\cdot (Q_{\\phi_1}(s) - \\alpha \\log \\pi_\\theta(s)) \\right] $\n",
    "\n",
    "> Note : Here I have used a constant $ \\alpha $, but the appropriate temperature ($ \\alpha $) depends on the magnitude of rewards, and it's not so easy to determine appropriate temprature, because it also depends on policy, which improves over time during training.<br>\n",
    "> There exists a variation of SAC, in which $ \\alpha $ is also learned over the course of training to align to appropriate entropy."
   ]
  },
  {
   "cell_type": "code",
   "execution_count": 7,
   "id": "af62799c",
   "metadata": {},
   "outputs": [],
   "source": [
    "alpha = 0.1\n",
    "\n",
    "opt_pi = torch.optim.AdamW(pi_model.parameters(), lr=0.0005)\n",
    "\n",
    "class categorical:\n",
    "    def __init__(self, s):\n",
    "        logits = pi_model(s)\n",
    "        self._prob = F.softmax(logits, dim=-1)\n",
    "        self._logp = torch.log(self._prob)\n",
    "\n",
    "    # probability (sum is 1.0) : P\n",
    "    def prob(self):\n",
    "        return self._prob\n",
    "\n",
    "    # log probability : log P()\n",
    "    def logp(self):\n",
    "        return self._logp\n",
    "\n",
    "def optimize_theta(states):\n",
    "    # Convert to tensor\n",
    "    states = torch.tensor(states, dtype=torch.float64).to(device)\n",
    "    # Disable grad in q_origin_model1 before computation\n",
    "    # (or use q_value.detach() not to include in graph)\n",
    "    for p in q_origin_model1.parameters():\n",
    "        p.requires_grad = False\n",
    "    # Optimize\n",
    "    opt_pi.zero_grad()\n",
    "    dist = categorical(states)\n",
    "    q_value = q_origin_model1(states)\n",
    "    term1 = dist.prob()\n",
    "    term2 = q_value - alpha * dist.logp()\n",
    "    expectation = term1.unsqueeze(dim=1) @ term2.unsqueeze(dim=2)\n",
    "    expectation = expectation.squeeze(dim=1)\n",
    "    (-expectation).sum().backward()\n",
    "    opt_pi.step()\n",
    "    # Enable grad again\n",
    "    for p in q_origin_model1.parameters():\n",
    "        p.requires_grad = True"
   ]
  },
  {
   "cell_type": "markdown",
   "id": "120612ed",
   "metadata": {},
   "source": [
    "Same as we saw in [clipped double-Q DDPG](./05-ddpg.ipynb), we optimize parameter $ \\phi_1, \\phi_2 $ as follows :\n",
    "\n",
    "- Optimize $ \\phi_1 $ to minimize $ E\\left[ \\left( Q_{\\phi_1}(s_t, a_t) - \\left( r_t + \\gamma (1 - d_t) \\left( \\min_{i=1,2} Q_{{\\phi_i}^{\\prime}}(s_{t+1},a^*_{t+1}) + \\alpha H(P(\\cdot | \\pi_\\theta(s_{t+1}))) \\right) \\right) \\right)^2 \\right] $\n",
    "- Optimize $ \\phi_2 $ to minimize $ E\\left[ \\left( Q_{\\phi_2}(s_t, a_t) - \\left( r_t + \\gamma (1 - d_t) \\left( \\min_{i=1,2} Q_{{\\phi_i}^{\\prime}}(s_{t+1},a^*_{t+1}) + \\alpha H(P(\\cdot | \\pi_\\theta(s_{t+1}))) \\right) \\right) \\right)^2 \\right] $\n",
    "\n",
    "in which :\n",
    "\n",
    "- $ Q_{\\phi_i}(s_t, a_t) = Q_{\\phi_i}(s_t) \\cdot \\tilde{a_t} $ where $ \\tilde{a_t} $ is one hot vector of $ a_t $\n",
    "- $ Q_{{\\phi_i}^{\\prime}}(s_{t+1},a^*_{t+1}) =  Q_{\\phi_i^{\\prime}}(s_{t+1}) \\cdot \\pi_\\theta(s_{t+1}) $ where $ \\pi_\\theta(s_{t+1}) $ is one hot probability\n",
    "- $ H(P(\\cdot | \\pi_\\theta(s_{t+1}))) = -\\pi_\\theta(s_{t+1}) \\cdot \\log \\pi_\\theta(s_{t+1}) $"
   ]
  },
  {
   "cell_type": "code",
   "execution_count": 8,
   "id": "a5fbac98",
   "metadata": {},
   "outputs": [],
   "source": [
    "gamma = 0.99\n",
    "\n",
    "opt_q1 = torch.optim.AdamW(q_origin_model1.parameters(), lr=0.0005)\n",
    "opt_q2 = torch.optim.AdamW(q_origin_model2.parameters(), lr=0.0005)\n",
    "\n",
    "def optimize_phi(states, actions, rewards, next_states, dones):\n",
    "    #\n",
    "    # Convert to tensor\n",
    "    #\n",
    "    states = torch.tensor(states, dtype=torch.float64).to(device)\n",
    "    actions = torch.tensor(actions, dtype=torch.int64).to(device)\n",
    "    rewards = torch.tensor(rewards, dtype=torch.float64).to(device)\n",
    "    rewards = rewards.unsqueeze(dim=1)\n",
    "    next_states = torch.tensor(next_states, dtype=torch.float64).to(device)\n",
    "    dones = torch.tensor(dones, dtype=torch.float64).to(device)\n",
    "    dones = dones.unsqueeze(dim=1)\n",
    "\n",
    "    #\n",
    "    # Compute r + gamma * (1 - d) (min Q(s_next,a_next') + alpha * H(P))\n",
    "    #\n",
    "    with torch.no_grad():\n",
    "        # min Q(s_next,a_next')\n",
    "        q1_tgt_next = q_target_model1(next_states)\n",
    "        q2_tgt_next = q_target_model2(next_states)\n",
    "        dist_next = categorical(next_states)\n",
    "        q1_target = q1_tgt_next.unsqueeze(dim=1) @ dist_next.prob().unsqueeze(dim=2)\n",
    "        q1_target = q1_target.squeeze(dim=1)\n",
    "        q2_target = q2_tgt_next.unsqueeze(dim=1) @ dist_next.prob().unsqueeze(dim=2)\n",
    "        q2_target = q2_target.squeeze(dim=1)\n",
    "        q_target_min = torch.minimum(q1_target, q2_target)\n",
    "        # alpha * H(P)\n",
    "        h = dist_next.prob().unsqueeze(dim=1) @ dist_next.logp().unsqueeze(dim=2)\n",
    "        h = h.squeeze(dim=1)\n",
    "        h = -alpha * h\n",
    "        # total\n",
    "        term2 = rewards + gamma * (1.0 - dones) * (q_target_min + h)\n",
    "\n",
    "    #\n",
    "    # Optimize critic loss for Q-network1\n",
    "    #\n",
    "    opt_q1.zero_grad()\n",
    "    one_hot_actions = F.one_hot(actions, num_classes=2).double()\n",
    "    q_value1 = q_origin_model1(states)\n",
    "    term1 = q_value1.unsqueeze(dim=1) @ one_hot_actions.unsqueeze(dim=2)\n",
    "    term1 = term1.squeeze(dim=1)\n",
    "    loss_q1 = F.mse_loss(\n",
    "        term1,\n",
    "        term2,\n",
    "        reduction=\"none\")\n",
    "    loss_q1.sum().backward()\n",
    "    opt_q1.step()\n",
    "\n",
    "    #\n",
    "    # Optimize critic loss for Q-network2\n",
    "    #\n",
    "    opt_q2.zero_grad()\n",
    "    one_hot_actions = F.one_hot(actions, num_classes=2).double()\n",
    "    q_value2 = q_origin_model2(states)\n",
    "    term1 = q_value2.unsqueeze(dim=1) @ one_hot_actions.unsqueeze(dim=2)\n",
    "    term1 = term1.squeeze(dim=1)\n",
    "    loss_q2 = F.mse_loss(\n",
    "        term1,\n",
    "        term2,\n",
    "        reduction=\"none\")\n",
    "    loss_q2.sum().backward()\n",
    "    opt_q2.step()"
   ]
  },
  {
   "cell_type": "markdown",
   "id": "b3c8100e",
   "metadata": {},
   "source": [
    "As we saw in [clipped double-Q DDPG](./05-ddpg.ipynb), target parameters $\\phi_1^{\\prime}, \\phi_2^{\\prime}$ are delayed with coefficient parameter (hyper-parameter) $ \\tau $."
   ]
  },
  {
   "cell_type": "code",
   "execution_count": 9,
   "id": "10bb910b",
   "metadata": {},
   "outputs": [],
   "source": [
    "tau = 0.002\n",
    "\n",
    "def update_target():\n",
    "    for var, var_target in zip(q_origin_model1.parameters(), q_target_model1.parameters()):\n",
    "        var_target.data = tau * var.data + (1.0 - tau) * var_target.data\n",
    "    for var, var_target in zip(q_origin_model2.parameters(), q_target_model2.parameters()):\n",
    "        var_target.data = tau * var.data + (1.0 - tau) * var_target.data"
   ]
  },
  {
   "cell_type": "markdown",
   "id": "ddc1f7f1",
   "metadata": {},
   "source": [
    "As we saw in [DDPG](./05-ddpg.ipynb), we use replay buffer to prevent from learning only for recent experiences."
   ]
  },
  {
   "cell_type": "code",
   "execution_count": 10,
   "id": "1172351c",
   "metadata": {},
   "outputs": [],
   "source": [
    "class replayBuffer:\n",
    "    def __init__(self, buffer_size: int):\n",
    "        self.buffer_size = buffer_size\n",
    "        self.buffer = []\n",
    "\n",
    "    def add(self, item):\n",
    "        if len(self.buffer) == self.buffer_size:\n",
    "            self.buffer.pop(0)\n",
    "        self.buffer.append(item)\n",
    "\n",
    "    def sample(self, batch_size):\n",
    "        items = random.sample(self.buffer, batch_size)\n",
    "        states   = [i[0] for i in items]\n",
    "        actions  = [i[1] for i in items]\n",
    "        rewards  = [i[2] for i in items]\n",
    "        n_states = [i[3] for i in items]\n",
    "        dones    = [i[4] for i in items]\n",
    "        return states, actions, rewards, n_states, dones\n",
    "\n",
    "    def length(self):\n",
    "        return len(self.buffer)\n",
    "\n",
    "buffer = replayBuffer(20000)"
   ]
  },
  {
   "cell_type": "markdown",
   "id": "f3b19a01",
   "metadata": {},
   "source": [
    "Now let's put it all together !"
   ]
  },
  {
   "cell_type": "code",
   "execution_count": 11,
   "id": "fe030199",
   "metadata": {},
   "outputs": [
    {
     "name": "stdout",
     "output_type": "stream",
     "text": [
      "Run episode590 with rewards 500.0\n",
      "Done\n"
     ]
    }
   ],
   "source": [
    "batch_size = 250\n",
    "\n",
    "reward_records = []\n",
    "for i in range(1000):\n",
    "    # Run episode till done\n",
    "    s, _ = env.reset()\n",
    "    done = False\n",
    "    cum_reward = 0\n",
    "    while not done:\n",
    "        a = pick_sample(s)\n",
    "        s_next, r, term, trunc, _ = env.step(a)\n",
    "        done = term or trunc\n",
    "        buffer.add([s.tolist(), a, r, s_next.tolist(), float(term)])\n",
    "        cum_reward += r\n",
    "        if buffer.length() >= batch_size:\n",
    "            states, actions, rewards, n_states, dones = buffer.sample(batch_size)\n",
    "            optimize_theta(states)\n",
    "            optimize_phi(states, actions, rewards, n_states, dones)\n",
    "            update_target()\n",
    "        s = s_next\n",
    "\n",
    "    # Output total rewards in episode (max 500)\n",
    "    print(\"Run episode{} with rewards {}\".format(i, cum_reward), end=\"\\r\")\n",
    "    reward_records.append(cum_reward)\n",
    "\n",
    "    # stop if reward mean > 475.0\n",
    "    if np.average(reward_records[-50:]) > 475.0:\n",
    "        break\n",
    "\n",
    "env.close()\n",
    "print(\"\\nDone\")"
   ]
  },
  {
   "cell_type": "code",
   "execution_count": 12,
   "id": "537d2387",
   "metadata": {},
   "outputs": [
    {
     "data": {
      "text/plain": [
       "[<matplotlib.lines.Line2D at 0x14898a290>]"
      ]
     },
     "execution_count": 12,
     "metadata": {},
     "output_type": "execute_result"
    },
    {
     "data": {
      "image/png": "[encoded data removed]",
      "text/plain": [
       "<Figure size 640x480 with 1 Axes>"
      ]
     },
     "metadata": {},
     "output_type": "display_data"
    }
   ],
   "source": [
    "import matplotlib.pyplot as plt\n",
    "# Generate recent 50 interval average\n",
    "average_reward = []\n",
    "for idx in range(len(reward_records)):\n",
    "    avg_list = np.empty(shape=(1,), dtype=int)\n",
    "    if idx < 50:\n",
    "        avg_list = reward_records[:idx+1]\n",
    "    else:\n",
    "        avg_list = reward_records[idx-49:idx+1]\n",
    "    average_reward.append(np.average(avg_list))\n",
    "plt.plot(reward_records)\n",
    "plt.plot(average_reward)"
   ]
  },
  {
   "cell_type": "code",
   "execution_count": null,
   "id": "cfc0182d",
   "metadata": {},
   "outputs": [],
   "source": []
  }
 ],
 "metadata": {
  "kernelspec": {
   "display_name": "base",
   "language": "python",
   "name": "python3"
  },
  "language_info": {
   "codemirror_mode": {
    "name": "ipython",
    "version": 3
   },
   "file_extension": ".py",
   "mimetype": "text/x-python",
   "name": "python",
   "nbconvert_exporter": "python",
   "pygments_lexer": "ipython3",
   "version": "3.11.11"
  }
 },
 "nbformat": 4,
 "nbformat_minor": 5
}
