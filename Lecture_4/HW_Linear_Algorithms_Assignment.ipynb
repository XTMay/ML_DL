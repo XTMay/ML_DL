{
  "cells": [
    {
      "cell_type": "markdown",
      "metadata": {
        "id": "view-in-github",
        "colab_type": "text"
      },
      "source": [
        "<a href=\"https://colab.research.google.com/github/XTMay/ML_DL/blob/main/Lecture_4/HW_Linear_Algorithms_Assignment.ipynb\" target=\"_parent\"><img src=\"https://colab.research.google.com/assets/colab-badge.svg\" alt=\"Open In Colab\"/></a>"
      ]
    },
    {
      "cell_type": "markdown",
      "metadata": {
        "id": "-hAKUmoOYdrI"
      },
      "source": [
        "# Linear Algorithms Assignment\n",
        "\n",
        "## Theory Questions 25 points (each question is worth 5 points)"
      ]
    },
    {
      "cell_type": "markdown",
      "metadata": {
        "id": "bOCxKct2YdrJ"
      },
      "source": [
        "#### Question 1. What is the primary goal of linear programming?"
      ]
    },
    {
      "cell_type": "markdown",
      "metadata": {
        "id": "1uW08uVUYdrK"
      },
      "source": [
        "#### Answer:"
      ]
    },
    {
      "cell_type": "markdown",
      "metadata": {
        "id": "_d_TqU-gYdrK"
      },
      "source": []
    },
    {
      "cell_type": "markdown",
      "metadata": {
        "id": "9Hs9DZbsYdrK"
      },
      "source": [
        "#### Question 2. Explain the difference between simple linear regression and multiple linear regression."
      ]
    },
    {
      "cell_type": "markdown",
      "metadata": {
        "id": "2CmJXRlzYdrK"
      },
      "source": [
        "#### Answer:"
      ]
    },
    {
      "cell_type": "markdown",
      "metadata": {
        "id": "uZUQmpeoYdrK"
      },
      "source": []
    },
    {
      "cell_type": "markdown",
      "metadata": {
        "id": "9wmM9ugKYdrK"
      },
      "source": [
        "#### Question 3. How do you interpret the coefficients (slope and intercept) in a linear regression equation?"
      ]
    },
    {
      "cell_type": "markdown",
      "metadata": {
        "id": "EBYswMItYdrL"
      },
      "source": [
        "#### Answer:"
      ]
    },
    {
      "cell_type": "markdown",
      "metadata": {
        "id": "9NrIDPlVYdrL"
      },
      "source": []
    },
    {
      "cell_type": "markdown",
      "metadata": {
        "id": "li_CeetGYdrL"
      },
      "source": [
        "#### Question 4. How to handle categorical variables in Logistic Regression?"
      ]
    },
    {
      "cell_type": "markdown",
      "metadata": {
        "id": "1huL_TDRYdrL"
      },
      "source": [
        "#### Answer:"
      ]
    },
    {
      "cell_type": "markdown",
      "metadata": {
        "id": "wXkFFAuSYdrL"
      },
      "source": []
    },
    {
      "cell_type": "markdown",
      "metadata": {
        "id": "jGyxNOZnYdrL"
      },
      "source": [
        "#### Question 5. What type of problem does logistic regression address? How does logistic regression handle binary classification?"
      ]
    },
    {
      "cell_type": "markdown",
      "metadata": {
        "id": "8cCp7mW5YdrL"
      },
      "source": [
        "#### Answer:"
      ]
    },
    {
      "cell_type": "markdown",
      "metadata": {
        "id": "kygltupSYdrM"
      },
      "source": []
    },
    {
      "cell_type": "markdown",
      "metadata": {
        "id": "dl9Nt0JjYdrM"
      },
      "source": [
        "## Programming Questions\n",
        "## Part 1 logistic regression (40 points)\n",
        "#### In this assignment, you’ll work with the Diabetes dataset from the sklearn.datasets library. Your task is to perform binary classification for diabetes prediction using logistic regression. Here’s how you can approach it:\n",
        "##### Load the Diabetes Dataset:\n",
        "- Use the load_diabetes() function to load the dataset1.\n",
        "- The dataset contains 442 samples and 10 features (real-valued) related to diabetes.\n",
        "- The target variable represents a regression target (continuous values).\n",
        "\n",
        "##### Binary Classification:\n",
        "- To achieve binary classification (1 for diabetes, 0 for no diabetes), you’ll need to transform the target variable.\n",
        "- Set a threshold (e.g., 0.5) to classify predictions as positive (diabetes) or negative (no diabetes).\n",
        "\n",
        "##### Logistic Regression:\n",
        "- Train a logistic regression model using the same features and transformed target.\n",
        "- Logistic regression outputs probabilities directly (between 0 and 1).\n",
        "- Apply the threshold to classify as 1 or 0.\n",
        "\n",
        "#### The load_diabetes function in sklearn.datasets allows you to load the Diabetes dataset for regression tasks1. Here are the details:\n",
        "\n",
        "- Samples: A total of 442 samples.\n",
        "- Dimensionality: 10 features.\n",
        "- Feature range: Real values between -.2 and .2.\n",
        "- Targets: Integer values ranging from 25 to 346."
      ]
    },
    {
      "cell_type": "code",
      "execution_count": null,
      "metadata": {
        "id": "jDBpYz4hYdrM"
      },
      "outputs": [],
      "source": [
        "# Import necessary libraries\n",
        "import numpy as np\n",
        "import pandas as pd\n",
        "import matplotlib.pyplot as plt\n",
        "import seaborn as sns\n",
        "from sklearn.datasets import load_diabetes\n",
        "from sklearn.model_selection import train_test_split\n",
        "from sklearn.preprocessing import StandardScaler\n",
        "from sklearn.linear_model import LogisticRegression\n",
        "from sklearn.metrics import accuracy_score, classification_report, confusion_matrix, roc_curve, auc\n"
      ]
    },
    {
      "cell_type": "markdown",
      "metadata": {
        "id": "-_VmHBjdYdrM"
      },
      "source": [
        "### Part-1_1 Data preprocessing & analysis (10 points)"
      ]
    },
    {
      "cell_type": "code",
      "execution_count": null,
      "metadata": {
        "id": "gCKwPevsYdrM"
      },
      "outputs": [],
      "source": [
        "# TODO\n"
      ]
    },
    {
      "cell_type": "code",
      "execution_count": null,
      "metadata": {
        "id": "i__qq_B-YdrN"
      },
      "outputs": [],
      "source": [
        "# Load the diabetes dataset\n",
        "diabetes = load_diabetes()\n",
        "X, y = diabetes.data, diabetes.target\n",
        "\n",
        "# Convert the target variable to binary (1 for diabetes, 0 for no diabetes)\n",
        "y_binary = (y > np.median(y)).astype(int)\n"
      ]
    },
    {
      "cell_type": "code",
      "execution_count": null,
      "metadata": {
        "id": "n2eR-UNhYdrN"
      },
      "outputs": [],
      "source": [
        "# Split the data into training and testing sets\n",
        "X_train, X_test, y_train, y_test = train_test_split(\n",
        "\tX, y_binary, test_size=0.2, random_state=42)\n"
      ]
    },
    {
      "cell_type": "markdown",
      "metadata": {
        "id": "t5tap04cYdrN"
      },
      "source": [
        "### Part-1_2 Train the Logistic Regression model (10 points)"
      ]
    },
    {
      "cell_type": "code",
      "execution_count": null,
      "metadata": {
        "id": "E-FHiwr0YdrN"
      },
      "outputs": [],
      "source": [
        "\n",
        "# Standardize features\n",
        "scaler = StandardScaler()\n",
        "X_train = scaler.fit_transform(X_train)\n",
        "X_test = scaler.transform(X_test)"
      ]
    },
    {
      "cell_type": "code",
      "execution_count": null,
      "metadata": {
        "id": "jh5pAv71YdrN"
      },
      "outputs": [],
      "source": [
        "# TODO\n"
      ]
    },
    {
      "cell_type": "markdown",
      "metadata": {
        "id": "pQ6_s01jYdrN"
      },
      "source": [
        "### Part-1_3 Model Evaluation (10 points)"
      ]
    },
    {
      "cell_type": "code",
      "execution_count": null,
      "metadata": {
        "id": "oQOu44coYdrN"
      },
      "outputs": [],
      "source": [
        "\n",
        "# Evaluate the model\n"
      ]
    },
    {
      "cell_type": "code",
      "execution_count": null,
      "metadata": {
        "id": "vk7al96NYdrO"
      },
      "outputs": [],
      "source": [
        "\n",
        "# Visualize the decision boundary with accuracy information\n"
      ]
    },
    {
      "cell_type": "markdown",
      "metadata": {
        "id": "43kZChE6YdrO"
      },
      "source": [
        "### Part-1_4 Plot ROC Curve (10 points)"
      ]
    },
    {
      "cell_type": "code",
      "execution_count": null,
      "metadata": {
        "id": "pCRypegzYdrO"
      },
      "outputs": [],
      "source": [
        "# TODO\n",
        "# Plot ROC Curve\n",
        "\n"
      ]
    },
    {
      "cell_type": "markdown",
      "metadata": {
        "id": "O-bfKsdQYdrO"
      },
      "source": [
        "## Part 2 linear regression (35 points)\n",
        "#### In this assignment, you’ll work with the insurance dataset from kaggle. The dataset consists of age, sex, BMI(body mass index), children, smoker and region feature, which are independent and charge as a dependent feature. We will predict individual medical costs billed by health insurance.\n",
        "\n",
        "#### Kaggle: https://www.kaggle.com/code/shubhamptrivedi/health-insurance-price-predict-linear-regression/input?select=Health_insurance.csv\n",
        "\n",
        "#### You will build a Linear regression model for Medical cost dataset."
      ]
    },
    {
      "cell_type": "code",
      "execution_count": null,
      "metadata": {
        "id": "Yg_VcgeqYdrO"
      },
      "outputs": [],
      "source": [
        "# Import library\n",
        "import pandas  as pd #Data manipulation\n",
        "import numpy as np #Data manipulation\n",
        "import matplotlib.pyplot as plt # Visualization\n",
        "import seaborn as sns #Visualization"
      ]
    },
    {
      "cell_type": "markdown",
      "metadata": {
        "id": "zg71YxsVYdrO"
      },
      "source": [
        "### Part-2_1 Read dataset & Data preprocessing (5 points)"
      ]
    },
    {
      "cell_type": "code",
      "execution_count": null,
      "metadata": {
        "id": "cRsXYcarYdrO"
      },
      "outputs": [],
      "source": [
        "# TODO\n",
        "#  Import dataset\n",
        "#path ='dataset/'\n",
        "df = pd.read_csv('/insurance.csv')\n",
        "df.head()\n"
      ]
    },
    {
      "cell_type": "code",
      "execution_count": null,
      "metadata": {
        "id": "83NwGbYLYdrO"
      },
      "outputs": [],
      "source": [
        "sns.lmplot(x='bmi',y='charges',data=df,aspect=2,height=6)\n",
        "plt.xlabel('Boby Mass Index$(kg/m^2)$: as Independent variable')\n",
        "plt.ylabel('Insurance Charges: as Dependent variable')\n",
        "plt.title('Charge Vs BMI');"
      ]
    },
    {
      "cell_type": "code",
      "execution_count": null,
      "metadata": {
        "id": "uI1IyKcdYdrO"
      },
      "outputs": [],
      "source": [
        "df.describe()"
      ]
    },
    {
      "cell_type": "markdown",
      "metadata": {
        "id": "31dkZbCFYdrO"
      },
      "source": [
        "### Part-2_2 Data preprocessing, encoder 'sex', 'smoker' and 'region' columns (10 points)"
      ]
    },
    {
      "cell_type": "code",
      "execution_count": null,
      "metadata": {
        "id": "KEZ5HvLPYdrT"
      },
      "outputs": [],
      "source": [
        "# TODO\n"
      ]
    },
    {
      "cell_type": "code",
      "execution_count": null,
      "metadata": {
        "id": "5BjEg8yvYdrT"
      },
      "outputs": [],
      "source": [
        "lst = ['smoker', 'region']"
      ]
    },
    {
      "cell_type": "code",
      "execution_count": null,
      "metadata": {
        "id": "5sTmKHRUYdrT"
      },
      "outputs": [],
      "source": [
        "# correlation plot"
      ]
    },
    {
      "cell_type": "code",
      "execution_count": null,
      "metadata": {
        "id": "v3-zHQ21YdrT"
      },
      "outputs": [],
      "source": [
        "f= plt.figure(figsize=(12,4))\n",
        "\n",
        "ax=f.add_subplot(121)\n",
        "sns.distplot(df['charges'],bins=50,color='r',ax=ax)\n",
        "ax.set_title('Distribution of insurance charges')\n",
        "\n",
        "ax=f.add_subplot(122)\n",
        "sns.distplot(np.log10(df['charges']),bins=40,color='b',ax=ax)\n",
        "ax.set_title('Distribution of insurance charges in $log$ sacle')\n",
        "ax.set_xscale('log');"
      ]
    },
    {
      "cell_type": "code",
      "execution_count": null,
      "metadata": {
        "id": "YFUc4-YSYdrT"
      },
      "outputs": [],
      "source": [
        "plt.figure(figsize=(14,6))\n",
        "sns.boxplot(x='children', y='charges',hue='sex',data=df,palette='rainbow')\n",
        "plt.title('Box plot of charges vs children');"
      ]
    },
    {
      "cell_type": "code",
      "execution_count": null,
      "metadata": {
        "id": "ZuPZ5YKDYdrT"
      },
      "outputs": [],
      "source": [
        "df.groupby('children').agg(['mean','min','max'])['charges']"
      ]
    },
    {
      "cell_type": "code",
      "execution_count": null,
      "metadata": {
        "id": "gFoqUVJMYdrU"
      },
      "outputs": [],
      "source": [
        "f = plt.figure(figsize=(14,6))\n",
        "ax = f.add_subplot(121)\n",
        "sns.scatterplot(x='age',y='charges',data=df,palette='magma',hue='smoker',ax=ax)\n",
        "ax.set_title('Scatter plot of Charges vs age')\n",
        "\n",
        "ax = f.add_subplot(122)\n",
        "sns.scatterplot(x='bmi',y='charges',data=df,palette='viridis',hue='smoker')\n",
        "ax.set_title('Scatter plot of Charges vs bmi')\n",
        "plt.savefig('sc.png');"
      ]
    },
    {
      "cell_type": "code",
      "execution_count": null,
      "metadata": {
        "id": "5l7lNkInYdrU"
      },
      "outputs": [],
      "source": [
        "# Dummy variable\n",
        "categorical_columns = ['sex','children', 'smoker', 'region']\n",
        "df_encode = pd.get_dummies(data = df, prefix = 'OHE', prefix_sep='_',\n",
        "               columns = categorical_columns,\n",
        "               drop_first =True,\n",
        "              dtype='int8')"
      ]
    },
    {
      "cell_type": "code",
      "execution_count": null,
      "metadata": {
        "id": "b0KFh4SoYdrU"
      },
      "outputs": [],
      "source": [
        "# Lets verify the dummay variable process\n",
        "print('Columns in original data frame:\\n',df.columns.values)\n",
        "print('\\nNumber of rows and columns in the dataset:',df.shape)\n",
        "print('\\nColumns in data frame after encoding dummy variable:\\n',df_encode.columns.values)\n",
        "print('\\nNumber of rows and columns in the dataset:',df_encode.shape)"
      ]
    },
    {
      "cell_type": "code",
      "execution_count": null,
      "metadata": {
        "id": "Epp5DSgaYdrU"
      },
      "outputs": [],
      "source": [
        "from scipy.stats import boxcox\n",
        "y_bc,lam, ci= boxcox(df_encode['charges'],alpha=0.05)\n",
        "\n",
        "#df['charges'] = y_bc\n",
        "# it did not perform better for this model, so log transform is used\n",
        "ci,lam"
      ]
    },
    {
      "cell_type": "code",
      "execution_count": null,
      "metadata": {
        "id": "FIxhZAr5YdrU"
      },
      "outputs": [],
      "source": [
        "## Log transform\n",
        "df_encode['charges'] = np.log(df_encode['charges'])"
      ]
    },
    {
      "cell_type": "markdown",
      "metadata": {
        "id": "Vtq4Q1ZtYdrU"
      },
      "source": [
        "###  Part-2_3 Train Test dataset split (10 points)\n"
      ]
    },
    {
      "cell_type": "code",
      "execution_count": null,
      "metadata": {
        "id": "5vueLwAkYdrU"
      },
      "outputs": [],
      "source": [
        "from sklearn.model_selection import train_test_split\n",
        "X = df_encode.drop('charges',axis=1) # Independet variable\n",
        "y = df_encode['charges'] # dependent variable\n",
        "\n",
        "X_train, X_test, y_train, y_test = train_test_split(X,y,test_size=0.3,random_state=23)"
      ]
    },
    {
      "cell_type": "code",
      "execution_count": null,
      "metadata": {
        "id": "F4NhHj8PYdrU"
      },
      "outputs": [],
      "source": [
        "# Step 1: add x0 =1 to dataset\n",
        "\n",
        "\n",
        "# Step2: build model\n"
      ]
    },
    {
      "cell_type": "code",
      "execution_count": null,
      "metadata": {
        "id": "3PsGPsTsYdrU"
      },
      "outputs": [],
      "source": [
        "# The parameters for linear regression model\n"
      ]
    },
    {
      "cell_type": "markdown",
      "metadata": {
        "id": "nkfkNFYVYdrU"
      },
      "source": [
        "###  Part-2_4 Train LinearRegression (10 points)"
      ]
    },
    {
      "cell_type": "code",
      "execution_count": null,
      "metadata": {
        "id": "uB-cJLycYdrU"
      },
      "outputs": [],
      "source": [
        "# TODO\n",
        "# Scikit Learn module\n",
        "from sklearn.linear_model import LinearRegression\n",
        "lin_reg = LinearRegression()\n",
        "lin_reg.fit(X_train,y_train) # Note: x_0 =1 is no need to add, sklearn will take care of it.\n"
      ]
    },
    {
      "cell_type": "code",
      "execution_count": null,
      "metadata": {
        "id": "5hyr6G93YdrU"
      },
      "outputs": [],
      "source": [
        "# Normal equation\n",
        "y_pred_norm =  np.matmul(X_test_0,theta)\n",
        "\n",
        "#Evaluvation: MSE\n",
        "\n",
        "# R_square\n"
      ]
    },
    {
      "cell_type": "code",
      "execution_count": null,
      "metadata": {
        "id": "FfUuaAZaYdrU"
      },
      "outputs": [],
      "source": [
        "# sklearn regression module\n",
        "y_pred_sk = lin_reg.predict(X_test)\n",
        "\n",
        "#Evaluvation: MSE\n"
      ]
    },
    {
      "cell_type": "markdown",
      "metadata": {
        "id": "fmm-pFgzYdrV"
      },
      "source": [
        "###  Part-2_5 Model Evaluation (10 points)"
      ]
    },
    {
      "cell_type": "code",
      "execution_count": null,
      "metadata": {
        "id": "gk2ySg3uYdrV"
      },
      "outputs": [],
      "source": [
        "# TODO\n",
        "# Quantile-Quantile plot\n"
      ]
    },
    {
      "cell_type": "code",
      "execution_count": null,
      "metadata": {
        "id": "1YQoc9KTYdrV"
      },
      "outputs": [],
      "source": []
    }
  ],
  "metadata": {
    "kernelspec": {
      "display_name": "base",
      "language": "python",
      "name": "python3"
    },
    "language_info": {
      "codemirror_mode": {
        "name": "ipython",
        "version": 3
      },
      "file_extension": ".py",
      "mimetype": "text/x-python",
      "name": "python",
      "nbconvert_exporter": "python",
      "pygments_lexer": "ipython3",
      "version": "3.12.2"
    },
    "colab": {
      "provenance": [],
      "include_colab_link": true
    }
  },
  "nbformat": 4,
  "nbformat_minor": 0
}